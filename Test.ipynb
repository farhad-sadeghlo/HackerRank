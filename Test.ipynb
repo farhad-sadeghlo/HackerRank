{
 "cells": [
  {
   "cell_type": "code",
   "execution_count": 7,
   "outputs": [
    {
     "name": "stdout",
     "output_type": "stream",
     "text": [
      "dict_keys(['sam', 'rick'])\n"
     ]
    }
   ],
   "source": [
    "phonebook = {'sam':324, 'rick':56243}\n",
    "print(phonebook.keys())"
   ],
   "metadata": {
    "collapsed": false,
    "pycharm": {
     "name": "#%%\n"
    }
   }
  },
  {
   "cell_type": "code",
   "execution_count": 35,
   "outputs": [
    {
     "name": "stdout",
     "output_type": "stream",
     "text": [
      "2\n",
      "Sam=36436\n",
      "Rick=6466\n"
     ]
    }
   ],
   "source": [
    "counter = int(input())\n",
    "phonebook = {}\n",
    "print(counter)\n",
    "for _ in range(counter):\n",
    "    name, number = input().split()\n",
    "    phonebook[name] = number\n",
    "\n",
    "listofnames = []\n",
    "for _ in range(counter):\n",
    "\n",
    "    listofnames.append(input())\n",
    "\n",
    "output = []\n",
    "for name in listofnames:\n",
    "\n",
    "    if name in phonebook.keys():\n",
    "\n",
    "        output.append('{}={}'.format(name, phonebook[name]))\n",
    "\n",
    "    else:\n",
    "\n",
    "        output.append('Not found')\n",
    "\n",
    "print(*output, sep=\"\\n\")\n"
   ],
   "metadata": {
    "collapsed": false,
    "pycharm": {
     "name": "#%%\n"
    }
   }
  },
  {
   "cell_type": "code",
   "execution_count": 32,
   "outputs": [
    {
     "name": "stdout",
     "output_type": "stream",
     "text": [
      "['Rick=533']\n"
     ]
    }
   ],
   "source": [
    "print(output)"
   ],
   "metadata": {
    "collapsed": false,
    "pycharm": {
     "name": "#%%\n"
    }
   }
  },
  {
   "cell_type": "code",
   "execution_count": null,
   "outputs": [],
   "source": [],
   "metadata": {
    "collapsed": false,
    "pycharm": {
     "name": "#%%\n"
    }
   }
  }
 ],
 "metadata": {
  "kernelspec": {
   "display_name": "Python 3",
   "language": "python",
   "name": "python3"
  },
  "language_info": {
   "codemirror_mode": {
    "name": "ipython",
    "version": 2
   },
   "file_extension": ".py",
   "mimetype": "text/x-python",
   "name": "python",
   "nbconvert_exporter": "python",
   "pygments_lexer": "ipython2",
   "version": "2.7.6"
  }
 },
 "nbformat": 4,
 "nbformat_minor": 0
}